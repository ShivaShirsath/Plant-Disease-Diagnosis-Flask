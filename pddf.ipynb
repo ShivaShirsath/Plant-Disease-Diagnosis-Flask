{
  "cells": [
    {
      "cell_type": "markdown",
      "metadata": {
        "id": "view-in-github",
        "colab_type": "text"
      },
      "source": [
        "<a href=\"https://colab.research.google.com/github/ShivaShirsath/Plant-Disease-Diagnosis-Flask/blob/master/pddf.ipynb\" target=\"_parent\"><img src=\"https://colab.research.google.com/assets/colab-badge.svg\" alt=\"Open In Colab\"/></a>"
      ]
    },
    {
      "cell_type": "code",
      "execution_count": 2,
      "metadata": {
        "colab": {
          "base_uri": "https://localhost:8080/"
        },
        "id": "ZsOQ-OAp8jqA",
        "outputId": "f1d25f7f-4ff3-439e-949b-cc3af203a0ef"
      },
      "outputs": [
        {
          "output_type": "stream",
          "name": "stdout",
          "text": [
            "Looking in indexes: https://pypi.org/simple, https://us-python.pkg.dev/colab-wheels/public/simple/\n",
            "Collecting flask-ngrok\n",
            "  Downloading flask_ngrok-0.0.25-py3-none-any.whl (3.1 kB)\n",
            "Collecting pyngrok\n",
            "  Downloading pyngrok-6.0.0.tar.gz (681 kB)\n",
            "\u001b[2K     \u001b[90m━━━━━━━━━━━━━━━━━━━━━━━━━━━━━━━━━━━━━━\u001b[0m \u001b[32m681.2/681.2 kB\u001b[0m \u001b[31m18.0 MB/s\u001b[0m eta \u001b[36m0:00:00\u001b[0m\n",
            "\u001b[?25h  Preparing metadata (setup.py) ... \u001b[?25l\u001b[?25hdone\n",
            "Collecting gevent\n",
            "  Downloading gevent-22.10.2-cp310-cp310-manylinux_2_17_x86_64.manylinux2014_x86_64.whl (6.4 MB)\n",
            "\u001b[2K     \u001b[90m━━━━━━━━━━━━━━━━━━━━━━━━━━━━━━━━━━━━━━━━\u001b[0m \u001b[32m6.4/6.4 MB\u001b[0m \u001b[31m105.7 MB/s\u001b[0m eta \u001b[36m0:00:00\u001b[0m\n",
            "\u001b[?25hRequirement already satisfied: Flask>=0.8 in /usr/local/lib/python3.10/dist-packages (from flask-ngrok) (2.2.4)\n",
            "Requirement already satisfied: requests in /usr/local/lib/python3.10/dist-packages (from flask-ngrok) (2.27.1)\n",
            "Requirement already satisfied: PyYAML in /usr/local/lib/python3.10/dist-packages (from pyngrok) (6.0)\n",
            "Collecting zope.event (from gevent)\n",
            "  Downloading zope.event-4.6-py2.py3-none-any.whl (6.8 kB)\n",
            "Collecting zope.interface (from gevent)\n",
            "  Downloading zope.interface-6.0-cp310-cp310-manylinux_2_5_x86_64.manylinux1_x86_64.manylinux_2_17_x86_64.manylinux2014_x86_64.whl (246 kB)\n",
            "\u001b[2K     \u001b[90m━━━━━━━━━━━━━━━━━━━━━━━━━━━━━━━━━━━━━━\u001b[0m \u001b[32m247.0/247.0 kB\u001b[0m \u001b[31m28.5 MB/s\u001b[0m eta \u001b[36m0:00:00\u001b[0m\n",
            "\u001b[?25hRequirement already satisfied: setuptools in /usr/local/lib/python3.10/dist-packages (from gevent) (67.7.2)\n",
            "Requirement already satisfied: greenlet>=2.0.0 in /usr/local/lib/python3.10/dist-packages (from gevent) (2.0.2)\n",
            "Requirement already satisfied: Werkzeug>=2.2.2 in /usr/local/lib/python3.10/dist-packages (from Flask>=0.8->flask-ngrok) (2.3.0)\n",
            "Requirement already satisfied: Jinja2>=3.0 in /usr/local/lib/python3.10/dist-packages (from Flask>=0.8->flask-ngrok) (3.1.2)\n",
            "Requirement already satisfied: itsdangerous>=2.0 in /usr/local/lib/python3.10/dist-packages (from Flask>=0.8->flask-ngrok) (2.1.2)\n",
            "Requirement already satisfied: click>=8.0 in /usr/local/lib/python3.10/dist-packages (from Flask>=0.8->flask-ngrok) (8.1.3)\n",
            "Requirement already satisfied: urllib3<1.27,>=1.21.1 in /usr/local/lib/python3.10/dist-packages (from requests->flask-ngrok) (1.26.15)\n",
            "Requirement already satisfied: certifi>=2017.4.17 in /usr/local/lib/python3.10/dist-packages (from requests->flask-ngrok) (2022.12.7)\n",
            "Requirement already satisfied: charset-normalizer~=2.0.0 in /usr/local/lib/python3.10/dist-packages (from requests->flask-ngrok) (2.0.12)\n",
            "Requirement already satisfied: idna<4,>=2.5 in /usr/local/lib/python3.10/dist-packages (from requests->flask-ngrok) (3.4)\n",
            "Requirement already satisfied: MarkupSafe>=2.0 in /usr/local/lib/python3.10/dist-packages (from Jinja2>=3.0->Flask>=0.8->flask-ngrok) (2.1.2)\n",
            "Building wheels for collected packages: pyngrok\n",
            "  Building wheel for pyngrok (setup.py) ... \u001b[?25l\u001b[?25hdone\n",
            "  Created wheel for pyngrok: filename=pyngrok-6.0.0-py3-none-any.whl size=19867 sha256=324e76c06ca4f4b44662607d3bd815f994c09237ae8545e63f65eee342c1a3bc\n",
            "  Stored in directory: /root/.cache/pip/wheels/5c/42/78/0c3d438d7f5730451a25f7ac6cbf4391759d22a67576ed7c2c\n",
            "Successfully built pyngrok\n",
            "Installing collected packages: zope.interface, zope.event, pyngrok, gevent, flask-ngrok\n",
            "Successfully installed flask-ngrok-0.0.25 gevent-22.10.2 pyngrok-6.0.0 zope.event-4.6 zope.interface-6.0\n"
          ]
        }
      ],
      "source": [
        "! pip install flask-ngrok pyngrok gevent"
      ]
    },
    {
      "cell_type": "code",
      "execution_count": 6,
      "metadata": {
        "colab": {
          "base_uri": "https://localhost:8080/"
        },
        "id": "Chb_V3Nh8m4Z",
        "outputId": "8b6f12b7-3785-4f37-be89-e766d34373be"
      },
      "outputs": [
        {
          "output_type": "stream",
          "name": "stdout",
          "text": [
            "Authtoken saved to configuration file: /root/.ngrok2/ngrok.yml\n"
          ]
        }
      ],
      "source": [
        "! ngrok authtoken 2N6WNOvhe2XPK2SkHwaz7gwn0k0_21vYzWJsMBdgRaU7wYrkG"
      ]
    },
    {
      "cell_type": "code",
      "execution_count": 3,
      "metadata": {
        "colab": {
          "base_uri": "https://localhost:8080/"
        },
        "id": "5xnZjF8-k2Y9",
        "outputId": "ef7a251f-bde0-4d78-a6dd-cb47537e33e5"
      },
      "outputs": [
        {
          "output_type": "stream",
          "name": "stdout",
          "text": [
            "/content\n",
            "Cloning into 'Plant-Disease-Diagnosis-Flask'...\n",
            "remote: Enumerating objects: 84, done.\u001b[K\n",
            "remote: Counting objects: 100% (37/37), done.\u001b[K\n",
            "remote: Compressing objects: 100% (31/31), done.\u001b[K\n",
            "remote: Total 84 (delta 18), reused 17 (delta 6), pack-reused 47\u001b[K\n",
            "Unpacking objects: 100% (84/84), 77.52 MiB | 8.57 MiB/s, done.\n",
            "/content/Plant-Disease-Diagnosis-Flask\n"
          ]
        }
      ],
      "source": [
        "%cd /content\n",
        "! git clone https://github.com/sudarshanbhavar/Plant-Disease-Diagnosis-Flask.git\n",
        "%cd /content/Plant-Disease-Diagnosis-Flask"
      ]
    },
    {
      "cell_type": "code",
      "execution_count": null,
      "metadata": {
        "colab": {
          "base_uri": "https://localhost:8080/"
        },
        "id": "pPq96plglBoh",
        "outputId": "70b68b82-acd4-482f-ef01-e7922e3195c4"
      },
      "outputs": [
        {
          "output_type": "stream",
          "name": "stdout",
          "text": [
            " * Serving Flask app '__main__'\n",
            " * Debug mode: off\n"
          ]
        },
        {
          "output_type": "stream",
          "name": "stderr",
          "text": [
            "INFO:werkzeug:\u001b[31m\u001b[1mWARNING: This is a development server. Do not use it in a production deployment. Use a production WSGI server instead.\u001b[0m\n",
            " * Running on http://127.0.0.1:5000\n",
            "INFO:werkzeug:\u001b[33mPress CTRL+C to quit\u001b[0m\n"
          ]
        },
        {
          "output_type": "stream",
          "name": "stdout",
          "text": [
            " * Running on http://f0aa-34-168-67-63.ngrok-free.app\n",
            " * Traffic stats available on http://127.0.0.1:4040\n"
          ]
        },
        {
          "output_type": "stream",
          "name": "stderr",
          "text": [
            "INFO:werkzeug:127.0.0.1 - - [29/May/2023 15:26:37] \"GET / HTTP/1.1\" 200 -\n",
            "INFO:werkzeug:127.0.0.1 - - [29/May/2023 15:26:38] \"GET /static/css/test.css HTTP/1.1\" 200 -\n",
            "INFO:werkzeug:127.0.0.1 - - [29/May/2023 15:26:38] \"GET /static/css/bootstrap.min.css HTTP/1.1\" 200 -\n",
            "INFO:werkzeug:127.0.0.1 - - [29/May/2023 15:26:38] \"GET /static/js/jquery.min.js HTTP/1.1\" 200 -\n",
            "INFO:werkzeug:127.0.0.1 - - [29/May/2023 15:26:38] \"GET /static/js/bootstrap.min.js HTTP/1.1\" 200 -\n",
            "INFO:werkzeug:127.0.0.1 - - [29/May/2023 15:26:38] \"GET /static/js/newjs.js HTTP/1.1\" 200 -\n",
            "INFO:werkzeug:127.0.0.1 - - [29/May/2023 15:26:39] \"GET / HTTP/1.1\" 200 -\n",
            "INFO:werkzeug:127.0.0.1 - - [29/May/2023 15:26:40] \"\u001b[33mGET /favicon.ico HTTP/1.1\u001b[0m\" 404 -\n"
          ]
        },
        {
          "output_type": "stream",
          "name": "stdout",
          "text": [
            "1/1 [==============================] - 2s 2s/step\n"
          ]
        },
        {
          "output_type": "stream",
          "name": "stderr",
          "text": [
            "INFO:werkzeug:127.0.0.1 - - [29/May/2023 15:26:58] \"POST /predict HTTP/1.1\" 200 -\n"
          ]
        },
        {
          "output_type": "stream",
          "name": "stdout",
          "text": [
            "[1.2597222e-03 9.8835957e-01 2.2875539e-03 1.2453772e-07 8.2023020e-05\n",
            " 2.3833149e-08 6.3079945e-03 3.8441583e-05 4.2140271e-04 1.2234064e-03\n",
            " 3.7283147e-08 4.5516849e-08 1.9596635e-06 1.1841242e-05 5.8394039e-06]\n",
            "Prediction: Pomegranate___healthy\n"
          ]
        }
      ],
      "source": [
        "import os\n",
        "import tensorflow as tf\n",
        "import numpy as np\n",
        "from tensorflow import keras\n",
        "from skimage import io\n",
        "from tensorflow.keras.preprocessing import image\n",
        "\n",
        "# Flask utils\n",
        "from flask import Flask, redirect, url_for, request, render_template\n",
        "from werkzeug.utils import secure_filename\n",
        "from gevent.pywsgi import WSGIServer\n",
        "\n",
        "# Define a flask app\n",
        "app = Flask(__name__)\n",
        "\n",
        "from flask_ngrok import run_with_ngrok\n",
        "\n",
        "run_with_ngrok(app)\n",
        "\n",
        "model =tf.keras.models.load_model('PlantDNet.h5',compile=False)\n",
        "\n",
        "def model_predict(img_path, model):\n",
        "    img = image.load_img(img_path, grayscale=False, target_size=(64, 64))\n",
        "    show_img = image.load_img(img_path, grayscale=False, target_size=(64, 64))\n",
        "    x = image.img_to_array(img)\n",
        "    x = np.expand_dims(x, axis=0)\n",
        "    x = np.array(x, 'float32')\n",
        "    x /= 255\n",
        "    preds = model.predict(x)\n",
        "    return preds\n",
        "\n",
        "\n",
        "@app.route('/', methods=['GET'])\n",
        "def index():\n",
        "    # Main page\n",
        "    return render_template('index.html')\n",
        "\n",
        "\n",
        "@app.route('/predict', methods=['GET', 'POST'])\n",
        "def upload():\n",
        "    if request.method == 'POST':\n",
        "        # Get the file from post request\n",
        "        f = request.files['file']\n",
        "\n",
        "        # Save the file to ./uploads\n",
        "        basepath = os.getcwd()\n",
        "        file_path = os.path.join(\n",
        "            basepath, 'uploads', secure_filename(f.filename))\n",
        "        f.save(file_path)\n",
        "\n",
        "        # Make prediction\n",
        "        preds = model_predict(file_path, model)\n",
        "        print(preds[0])\n",
        "\n",
        "       # x = x.reshape([64, 64]);\n",
        "        disease_class = ['Pepper__bell___Bacterial_spot', 'Pepper__bell___healthy', 'Potato___Early_blight',\n",
        "                         'Potato___Late_blight', 'Potato___healthy', 'Tomato_Bacterial_spot', 'Tomato_Early_blight',\n",
        "                         'Tomato_Late_blight', 'Tomato_Leaf_Mold', 'Tomato_Septoria_leaf_spot',\n",
        "                         'Tomato_Spider_mites_Two_spotted_spider_mite', 'Tomato__Target_Spot',\n",
        "                         'Tomato__Tomato_YellowLeaf__Curl_Virus', 'Tomato__Tomato_mosaic_virus', 'Tomato_healthy']\n",
        "        disease_classs = ['Pomegranate___Bacterial_spot', 'Pomegranate___healthy', 'Pomegranate___Early_blight',\n",
        "                         'Pomegranate___Late_blight', 'Pomegranate___healthy', 'Pomegranate_Bacterial_spot', 'Pomegranate_Early_blight',\n",
        "                         'Pomegranate_Late_blight', 'Pomegranate_Leaf_Mold', 'Pomegranate_Septoria_leaf_spot',\n",
        "                         'Pomegranate_Spider_mites_Two_spotted_spider_mite', 'Pomegranate__Target_Spot',\n",
        "                         'Pomegranate_YellowLeaf__Curl_Virus', 'Pomegranate_mosaic_virus', 'Pomegranate_healthy']\n",
        "        medicines = [\n",
        "                        'copper fungicide',\n",
        "                        '',\n",
        "                        'copper fungicide',\n",
        "                        'copper fungicide',\n",
        "                        '',\n",
        "                        'copper fungicide',\n",
        "                        'copper fungicide',\n",
        "                        'copper fungicide',\n",
        "                        'copper fungicide',\n",
        "                        'insecticide',\n",
        "                        'phytoalexin inducer',\n",
        "                        'virus free seeds',\n",
        "                        ''\n",
        "                        ]\n",
        "\n",
        "        a = preds[0]\n",
        "        ind=np.argmax(a)\n",
        "        print('Prediction:', disease_classs[ind])\n",
        "        result=disease_classs[ind] + \", Medicine :\"+ medicines[ind]\n",
        "        return result\n",
        "    return None\n",
        "\n",
        "\n",
        "if __name__ == '__main__':\n",
        "    # app.run(port=5002, debug=True)\n",
        "\n",
        "    # Serve the app with gevent\n",
        "    #http_server = WSGIServer(('', 5000), app)\n",
        "    #http_server.serve_forever()\n",
        "    app.run()"
      ]
    }
  ],
  "metadata": {
    "accelerator": "TPU",
    "colab": {
      "provenance": [],
      "include_colab_link": true
    },
    "kernelspec": {
      "display_name": "Python 3",
      "name": "python3"
    },
    "language_info": {
      "name": "python"
    }
  },
  "nbformat": 4,
  "nbformat_minor": 0
}